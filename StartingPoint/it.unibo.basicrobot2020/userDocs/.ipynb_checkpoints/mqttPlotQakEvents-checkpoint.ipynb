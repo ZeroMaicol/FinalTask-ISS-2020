{
 "cells": [
  {
   "cell_type": "markdown",
   "metadata": {},
   "source": [
    "## Using the basicrobot via MQTT"
   ]
  },
  {
   "cell_type": "code",
   "execution_count": 7,
   "metadata": {},
   "outputs": [
    {
     "name": "stdout",
     "output_type": "stream",
     "text": [
      "connected to broker  localhost\n",
      "console  STARTS :\n",
      "z\n",
      "console  cmd= z\n",
      "msg(userCmd,event,python,basicrobot,userCmd(z),1)\n",
      "emit event via MQTT msg(userCmd,event,python,basicrobot,userCmd(z),1)\n",
      "z\n",
      "msg(userCmd,event,python,basicrobot,userCmd(z),1)\n",
      "emit event via MQTT msg(userCmd,event,python,basicrobot,userCmd(z),1)\n",
      "z\n",
      "msg(userCmd,event,python,basicrobot,userCmd(z),1)\n",
      "emit event via MQTT msg(userCmd,event,python,basicrobot,userCmd(z),1)\n",
      "z\n",
      "msg(userCmd,event,python,basicrobot,userCmd(z),1)\n",
      "emit event via MQTT msg(userCmd,event,python,basicrobot,userCmd(z),1)\n",
      "z\n",
      "msg(userCmd,event,python,basicrobot,userCmd(z),1)\n",
      "emit event via MQTT msg(userCmd,event,python,basicrobot,userCmd(z),1)\n",
      "z\n",
      "msg(userCmd,event,python,basicrobot,userCmd(z),1)\n",
      "emit event via MQTT msg(userCmd,event,python,basicrobot,userCmd(z),1)\n",
      "q\n"
     ]
    }
   ],
   "source": [
    "import time\n",
    "import paho.mqtt.client as paho\n",
    " \n",
    "brokerAddr=\"localhost\"\n",
    "\n",
    "robotName      = \"basicrobot\"\n",
    "topic          = \"unibo/qak/events\"\n",
    "eventTmeplate  = \"msg(userCmd,event,python,\"+ robotName +\",userCmd(CMDVAL),1)\"\n",
    "\n",
    "def emit( message ) :\n",
    "    print(\"emit event via MQTT\", message)\n",
    "    msg = message + \"\\n\"\n",
    "    #byt = msg.encode()     \n",
    "    #tb  = topic.encode()\n",
    "    client.publish(topic, msg)\n",
    "\n",
    "\n",
    "def console() :  \n",
    "    print(\"console  STARTS :\"   )\n",
    "    cmd =  str( input() )\n",
    "    print(\"console  cmd=\" , cmd  )\n",
    "    while( cmd != \"q\"  ) :\n",
    "        msgEvent = eventTmeplate.replace(\"CMDVAL\", cmd)\n",
    "        print( msgEvent )\n",
    "        emit( msgEvent )\n",
    "        cmd =  str(input())\n",
    "   \n",
    "client= paho.Client(\"sender\")      \n",
    "client.connect(brokerAddr)              #connect\n",
    "print(\"connected to broker \", brokerAddr)\n",
    "\n",
    "console()\n",
    "  "
   ]
  },
  {
   "cell_type": "code",
   "execution_count": null,
   "metadata": {},
   "outputs": [],
   "source": []
  },
  {
   "cell_type": "code",
   "execution_count": null,
   "metadata": {},
   "outputs": [],
   "source": []
  }
 ],
 "metadata": {
  "kernelspec": {
   "display_name": "Python 3",
   "language": "python",
   "name": "python3"
  },
  "language_info": {
   "codemirror_mode": {
    "name": "ipython",
    "version": 3
   },
   "file_extension": ".py",
   "mimetype": "text/x-python",
   "name": "python",
   "nbconvert_exporter": "python",
   "pygments_lexer": "ipython3",
   "version": "3.7.3"
  }
 },
 "nbformat": 4,
 "nbformat_minor": 2
}
