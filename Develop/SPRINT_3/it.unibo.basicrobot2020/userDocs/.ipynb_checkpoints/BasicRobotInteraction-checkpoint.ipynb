{
 "cells": [
  {
   "cell_type": "markdown",
   "metadata": {
    "slideshow": {
     "slide_type": "subslide"
    }
   },
   "source": [
    "# Using the basicrobot \n",
    "See the project it.unibo.basicrobot2020"
   ]
  },
  {
   "cell_type": "markdown",
   "metadata": {},
   "source": [
    "## Interaction with the Virtual Robot\n",
    "The virtual robot is described in \n",
    "<a href=\"http://htmlpreview.github.com/?https://github.com/anatali/iss2020Lab/blob/master/it.unibo.robot2020/userDocs/LabVirtualRobot.html\" target=\"web\">\n",
    "LabVirtualRobot</a>"
   ]
  },
  {
   "cell_type": "code",
   "execution_count": null,
   "metadata": {},
   "outputs": [],
   "source": [
    "##############################################################\n",
    "# clientToWenv.py\n",
    "# sendToVirtualRobot : sends a command in output\n",
    "# read               : acquires data from input\n",
    "##############################################################\n",
    "import socket\n",
    "import time\n",
    "import json\n",
    "\n",
    "sock = socket.socket(socket.AF_INET, socket.SOCK_STREAM)\n",
    "virtualRobotPort = 8999\n",
    "sep = ';'   #required by the Soffritti virtual robot 'language'\n",
    "\n",
    "goForwardMsg  = '{\"type\": \"moveForward\",   \"arg\": -1  }'\n",
    "goBackwardMsg = '{\"type\": \"moveBackward\",  \"arg\": -1  }'\n",
    "turnLeftMsg   = '{\"type\": \"turnLeft\",      \"arg\": 400 }'\n",
    "turnRightMsg  = '{\"type\": \"turnRight\",     \"arg\": 400 }'\n",
    "haltMsg       = '{\"type\": \"alarm\",         \"arg\": 0   }'\n",
    "\n",
    "def connect(port) :\n",
    "    server_address = ('localhost', port)\n",
    "    sock.connect(server_address)    \n",
    "    print(\"CONNECTED WITH the virtual robot\" , server_address)\n",
    "\n",
    "def sendToVirtualRobot( message ) :\n",
    "    print(\"forward \", message)\n",
    "    msgJson = json.loads( message )\n",
    "    msg     = sep+ json.dumps(msgJson)+ sep \n",
    "    byt=msg.encode()    #required in Python3\n",
    "    sock.send( byt )\n",
    "\n",
    "def work() :\n",
    "    sendToVirtualRobot( goForwardMsg ) \n",
    "    time.sleep(1)\n",
    "    sendToVirtualRobot( haltMsg ) \n",
    "\n",
    "def read() :\n",
    "    BUFFER_SIZE = 1024\n",
    "    data = sock.recv(BUFFER_SIZE)\n",
    "    print( \"received data:\", data )\n",
    "\n",
    "def terminate() :\n",
    "    sock.close()\n",
    "    print(\"BYE\")\n",
    "\n",
    "###########################################    \n",
    "connect(virtualRobotPort)\n",
    "work()\n",
    "read()\n",
    "terminate()"
   ]
  },
  {
   "cell_type": "markdown",
   "metadata": {},
   "source": [
    "## Interaction with the basicrobot qactor\n",
    "See the model: <a href=\"../src/basicrobot.qak\" target=\"code\">basicrobot.qak</a>.\n",
    "<ol>\n",
    "    <li>\n",
    "        Activate the virtual robot and oper a browser on <tt>localhost:8090</tt>\n",
    "    </li>\n",
    "    <li>Launch the <tt>basicrobot</tt> as a 'standalone' application (microservice)\n",
    "<pre>\n",
    "cd C:\\..\\it.unibo.basicrobot2020-1.0\\bin\n",
    "it.unibo.basicrobot2020.bat\n",
    "</pre>\n",
    "    </li>\n",
    "    <li>\n",
    "        Execute the python code hereunder to move the robot\n",
    "    </li>\n",
    "    <li>\n",
    "        Look at the received data when the (virtual) robot hits an obstacle\n",
    "    </li>\n",
    "</ol>\n"
   ]
  },
  {
   "cell_type": "code",
   "execution_count": 1,
   "metadata": {},
   "outputs": [
    {
     "ename": "NameError",
     "evalue": "name 'sock' is not defined",
     "output_type": "error",
     "traceback": [
      "\u001b[1;31m---------------------------------------------------------------------------\u001b[0m",
      "\u001b[1;31mNameError\u001b[0m                                 Traceback (most recent call last)",
      "\u001b[1;32m<ipython-input-1-d912dcf683d7>\u001b[0m in \u001b[0;36m<module>\u001b[1;34m\u001b[0m\n\u001b[0;32m     52\u001b[0m \u001b[1;33m\u001b[0m\u001b[0m\n\u001b[0;32m     53\u001b[0m \u001b[1;31m##################################################\u001b[0m\u001b[1;33m\u001b[0m\u001b[1;33m\u001b[0m\u001b[1;33m\u001b[0m\u001b[0m\n\u001b[1;32m---> 54\u001b[1;33m \u001b[0mconnect\u001b[0m\u001b[1;33m(\u001b[0m\u001b[0mbasicRobotPort\u001b[0m\u001b[1;33m)\u001b[0m\u001b[1;33m\u001b[0m\u001b[1;33m\u001b[0m\u001b[0m\n\u001b[0m\u001b[0;32m     55\u001b[0m \u001b[0mconsole\u001b[0m\u001b[1;33m(\u001b[0m\u001b[1;33m)\u001b[0m\u001b[1;33m\u001b[0m\u001b[1;33m\u001b[0m\u001b[0m\n\u001b[0;32m     56\u001b[0m \u001b[0mread\u001b[0m\u001b[1;33m(\u001b[0m\u001b[1;33m)\u001b[0m\u001b[1;33m\u001b[0m\u001b[1;33m\u001b[0m\u001b[0m\n",
      "\u001b[1;32m<ipython-input-1-d912dcf683d7>\u001b[0m in \u001b[0;36mconnect\u001b[1;34m(port)\u001b[0m\n\u001b[0;32m     19\u001b[0m \u001b[1;32mdef\u001b[0m \u001b[0mconnect\u001b[0m\u001b[1;33m(\u001b[0m\u001b[0mport\u001b[0m\u001b[1;33m)\u001b[0m \u001b[1;33m:\u001b[0m\u001b[1;33m\u001b[0m\u001b[1;33m\u001b[0m\u001b[0m\n\u001b[0;32m     20\u001b[0m     \u001b[0mserver_address\u001b[0m \u001b[1;33m=\u001b[0m \u001b[1;33m(\u001b[0m\u001b[1;34m'localhost'\u001b[0m\u001b[1;33m,\u001b[0m \u001b[0mport\u001b[0m\u001b[1;33m)\u001b[0m\u001b[1;33m\u001b[0m\u001b[1;33m\u001b[0m\u001b[0m\n\u001b[1;32m---> 21\u001b[1;33m     \u001b[0msock\u001b[0m\u001b[1;33m.\u001b[0m\u001b[0mconnect\u001b[0m\u001b[1;33m(\u001b[0m\u001b[0mserver_address\u001b[0m\u001b[1;33m)\u001b[0m\u001b[1;33m\u001b[0m\u001b[1;33m\u001b[0m\u001b[0m\n\u001b[0m\u001b[0;32m     22\u001b[0m     \u001b[0mprint\u001b[0m\u001b[1;33m(\u001b[0m\u001b[1;34m\"CONNECTED WITH , server_address\"\u001b[0m\u001b[1;33m)\u001b[0m\u001b[1;33m\u001b[0m\u001b[1;33m\u001b[0m\u001b[0m\n\u001b[0;32m     23\u001b[0m \u001b[1;33m\u001b[0m\u001b[0m\n",
      "\u001b[1;31mNameError\u001b[0m: name 'sock' is not defined"
     ]
    }
   ],
   "source": [
    "##############################################################\n",
    "# sendDispatch       : sends a command in output\n",
    "# read               : acquires data from input\n",
    "##############################################################\n",
    "import socket\n",
    "import time\n",
    "\n",
    "\n",
    "\n",
    "basicRobotPort = 8018  \n",
    "smartRobotPort = 8020  \n",
    "\n",
    "robotName      = \"basicrobot\"\n",
    "\n",
    "goForwardMsg  = \"msg(cmd,dispatch,python,\"+ robotName +\",cmd(w),1)\"\n",
    "goBackwardMsg = \"msg(cmd,dispatch,python,\"+ robotName +\",cmd(s),1)\" \n",
    "turnLeftMsg   = \"msg(cmd,dispatch,python,\"+ robotName +\",cmd(a),1)\"  \n",
    "turnRightMsg  = \"msg(cmd,dispatch,python,\"+ robotName +\",cmd(d),1)\"  \n",
    "haltMsg       = \"msg(cmd,dispatch,python,\"+ robotName +\",cmd(h),1)\"\n",
    "\n",
    "sock          = socket.socket(socket.AF_INET, socket.SOCK_STREAM)\n",
    "\n",
    "def connect(port) :\n",
    "    server_address = ('localhost', port)\n",
    "    sock.connect(server_address)    \n",
    "    print(\"CONNECTED WITH , server_address\")\n",
    "\n",
    "def sendDispatch( message ) :\n",
    "    print(\"forward \", message)\n",
    "    msg = message + \"\\n\"\n",
    "    byt=msg.encode()    #required in Python3\n",
    "    sock.send(byt)\n",
    "\n",
    "def terminate() :\n",
    "    sock.close()    #qak infrastr receives a msg null\n",
    "    print(\"BYE\")\n",
    "\n",
    "def read() :\n",
    "    sock.settimeout(1)\n",
    "    try:\n",
    "        rec = sock.recv(100) # try to receive 100 bytes\n",
    "        print(\"RECEIVED:\" , rec )\n",
    "    except socket.timeout: # fail after 1 second of no activity\n",
    "        print(\"Didn't receive data! \")\n",
    "    finally:\n",
    "        terminate()\n",
    "\n",
    "def console() :  \n",
    "    cmd = str(input())\n",
    "    while( cmd != \"z\" ) :\n",
    "        if( cmd == \"w\" ) :\n",
    "            sendDispatch( goForwardMsg ) \n",
    "        if( cmd == \"h\" ) :\n",
    "            sendDispatch( haltMsg ) \n",
    "        cmd = str(input())\n",
    "          \n",
    "##################################################\n",
    "connect(basicRobotPort)\n",
    "console()\n",
    "read() "
   ]
  },
  {
   "cell_type": "code",
   "execution_count": null,
   "metadata": {},
   "outputs": [],
   "source": [
    " "
   ]
  },
  {
   "cell_type": "code",
   "execution_count": null,
   "metadata": {},
   "outputs": [],
   "source": []
  }
 ],
 "metadata": {
  "kernelspec": {
   "display_name": "Python 3",
   "language": "python",
   "name": "python3"
  },
  "language_info": {
   "codemirror_mode": {
    "name": "ipython",
    "version": 3
   },
   "file_extension": ".py",
   "mimetype": "text/x-python",
   "name": "python",
   "nbconvert_exporter": "python",
   "pygments_lexer": "ipython3",
   "version": "3.7.3"
  }
 },
 "nbformat": 4,
 "nbformat_minor": 2
}
